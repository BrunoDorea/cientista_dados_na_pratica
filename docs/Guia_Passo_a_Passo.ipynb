{
  "nbformat": 4,
  "nbformat_minor": 0,
  "metadata": {
    "colab": {
      "provenance": []
    },
    "kernelspec": {
      "name": "python3",
      "display_name": "Python 3"
    },
    "language_info": {
      "name": "python"
    }
  },
  "cells": [
    {
      "cell_type": "markdown",
      "metadata": {
        "id": "9xtrXghHknMy"
      },
      "source": [
        "# ![](https://cienciadosdados.com/images/2023/08/live_1.png)\n",
        "![]()"
      ]
    },
    {
      "cell_type": "markdown",
      "source": [
        "# <font color = Grey> Guia Completo"
      ],
      "metadata": {
        "id": "vIJkq7dS0GCt"
      }
    },
    {
      "cell_type": "markdown",
      "source": [
        "## <font color = blue> **Agora vou te mostrar o Guia Completo, o passo a passo que vai te levar a ganhar acima de R$8 mil como Cientista de Dados.**\n",
        "\n"
      ],
      "metadata": {
        "id": "JCkHPFHZuqGz"
      }
    },
    {
      "cell_type": "markdown",
      "source": [
        "# 1° Mapear suas habilidades\n",
        "\n",
        "Onde vc está? É do zero mesmo?\n",
        "O que vc já sabe? Quais são suas skills?"
      ],
      "metadata": {
        "id": "LQac4rPZ0Ki2"
      }
    },
    {
      "cell_type": "markdown",
      "source": [
        "![](https://jrmcoaching.com.br/wp-content/uploads/2016/03/Estado-desejado-no-Processo-de-Coaching.jpg)"
      ],
      "metadata": {
        "id": "FYKU6OAk5WkZ"
      }
    },
    {
      "cell_type": "markdown",
      "source": [
        "# 2° Plano de aprendizado\n",
        "\n",
        " Agora vc já consegue saber os Pontos que vc precisa desenvolver, vc vai Criar um plano de aprendizado das habilidades  \n",
        "\n",
        "  a) Hab.Técnicas:\n",
        "  \n",
        "      Python       SQL       Estatística       IA-ML-DL  \n",
        "\n",
        "  b) Hab.Qualitativas:\n",
        "  \n",
        "     Rac.Lógico      Business      Definir onde quer atuar.\n"
      ],
      "metadata": {
        "id": "BKFLgX6P0Kn-"
      }
    },
    {
      "cell_type": "markdown",
      "source": [
        "![](https://i0.wp.com/efagundes.com/wp-content/uploads/2022/03/AI-DMAIC-2.png?ssl=1)"
      ],
      "metadata": {
        "id": "eRWyd3cQ42ZS"
      }
    },
    {
      "cell_type": "markdown",
      "source": [
        "# 3° Projetos Práticos\n",
        "   \n",
        "   Estratégia de Projetos\n",
        "\n",
        "        Ex: \"Chatbot IA\"\n",
        "\n"
      ],
      "metadata": {
        "id": "aPysFsv20Kqb"
      }
    },
    {
      "cell_type": "markdown",
      "source": [
        "![](https://newvoice.ai/wp-content/uploads/2021/05/Chatbots-vao-responder-por-70-das-interacoes-com-clientes-ate-2022-1600x1024.png)"
      ],
      "metadata": {
        "id": "94zxaXvp4qRZ"
      }
    },
    {
      "cell_type": "markdown",
      "source": [
        "# 4° Formalizar o Portifólio\n",
        "\n",
        "      Projetos Atraentes (site/linkedin/github)\n",
        "\n"
      ],
      "metadata": {
        "id": "_0iaPHta0Ksv"
      }
    },
    {
      "cell_type": "markdown",
      "source": [
        "![](https://miro.medium.com/v2/resize:fit:1400/1*ENeXHvRncd4IZPxbZzmF3g.png)"
      ],
      "metadata": {
        "id": "lXsGdw2C4L31"
      }
    },
    {
      "cell_type": "markdown",
      "source": [
        "# 5° Preparação Entrevistas\n",
        "\n",
        "     Guia Prático\n",
        "     Questões\n",
        "     Simulação\n",
        "     \n",
        "     \n",
        "\n"
      ],
      "metadata": {
        "id": "RYoaNdTp0Kvp"
      }
    },
    {
      "cell_type": "markdown",
      "source": [
        "![](https://www.napratica.org.br/wp-content/uploads/2018/08/job-interviee.jpg)"
      ],
      "metadata": {
        "id": "ATzVtr7P21vu"
      }
    },
    {
      "cell_type": "markdown",
      "source": [
        "# 6° Prospecção Proativa\n",
        "\n",
        "     Segmentos relacionados a vc e suas Skills"
      ],
      "metadata": {
        "id": "mUqgbLLt0KxN"
      }
    },
    {
      "cell_type": "markdown",
      "source": [
        "![](https://media.licdn.com/dms/image/C4E12AQEkq612YqqHgA/article-cover_image-shrink_720_1280/0/1548875556208?e=2147483647&v=beta&t=Qk6wK22Nej6IV-VQbArhtW-p4aoRah1nFiloR5I3iN0)"
      ],
      "metadata": {
        "id": "t8G_7rym2e40"
      }
    },
    {
      "cell_type": "markdown",
      "metadata": {
        "id": "ErxH3kmN5jt-"
      },
      "source": [
        "# ![](https://cienciadosdados.com/images/2023/08/live_1.png)\n",
        "![]()"
      ]
    }
  ]
}