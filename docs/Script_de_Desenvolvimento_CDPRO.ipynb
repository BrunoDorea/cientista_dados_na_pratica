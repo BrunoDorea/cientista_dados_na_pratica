{
  "cells": [
    {
      "cell_type": "markdown",
      "metadata": {
        "id": "9xtrXghHknMy"
      },
      "source": [
        "# ![](https://cienciadosdados.com/images/2023/08/live_1.png)\n",
        "![]()"
      ]
    },
    {
      "cell_type": "markdown",
      "metadata": {
        "id": "JCkHPFHZuqGz"
      },
      "source": [
        "## <font color = blue> **Contexto do Projeto**\n",
        "\n"
      ]
    },
    {
      "cell_type": "markdown",
      "metadata": {
        "id": "HQAOCbjhyuhG"
      },
      "source": [
        "A empresa enfrenta desafios em lidar com um alto volume de consultas de suporte ao cliente, resultando em tempos de resposta lentos e sobrecarga da equipe de suporte. A necessidade de fornecer assistência rápida e eficaz aos clientes é fundamental para manter a satisfação e fidelidade do cliente. No entanto, a alocação de recursos humanos para responder a consultas frequentes e repetitivas está consumindo tempo e recursos valiosos da equipe de suporte."
      ]
    },
    {
      "cell_type": "markdown",
      "metadata": {
        "id": "jFyMJt1oP50g"
      },
      "source": [
        "### ![](https://miro.medium.com/v2/resize:fit:1358/1*iGdFJTHMIG79N2HChWaooQ.gif)"
      ]
    },
    {
      "cell_type": "code",
      "execution_count": 4,
      "metadata": {
        "colab": {
          "base_uri": "https://localhost:8080/",
          "height": 321
        },
        "id": "oSskicCD4yEu",
        "outputId": "2897cf34-d37c-4e98-aec5-6a926c46c48e"
      },
      "outputs": [
        {
          "data": {
            "text/html": [
              "<img src=\"https://cienciadosdados.com/images/2023/08/chat.png\" width=\"500\" height=\"300\"/>"
            ],
            "text/plain": [
              "<IPython.core.display.Image object>"
            ]
          },
          "metadata": {},
          "output_type": "display_data"
        }
      ],
      "source": [
        "from IPython.display import Image, display\n",
        "\n",
        "url_da_imagem = 'https://cienciadosdados.com/images/2023/08/chat.png'\n",
        "display(Image(url=url_da_imagem, width=500, height=300))  # Ajuste os valores de width e height conforme necessário\n"
      ]
    },
    {
      "cell_type": "markdown",
      "metadata": {
        "id": "6duRerRjySHd"
      },
      "source": [
        "# 1° Problema de Negócio"
      ]
    },
    {
      "cell_type": "markdown",
      "metadata": {
        "id": "dSh-HF7zy14U"
      },
      "source": [
        " **Melhorar a Eficiência e Escalabilidade do Suporte ao Cliente através de um Chatbot de IA.**\n",
        "\n",
        "Implementar um **chatbot de IA** para fornecer suporte ao cliente automatizado. O chatbot pode ser treinado para compreender e responder a uma variedade de perguntas frequentes, solucionar problemas comuns e direcionar consultas mais complexas para atendentes humanos. Isso permitirá que os clientes recebam respostas instantâneas para suas dúvidas e problemas, reduzindo os tempos de espera e melhorando a experiência do cliente.\n"
      ]
    },
    {
      "cell_type": "markdown",
      "metadata": {
        "id": "Y6toN_iyyWmo"
      },
      "source": [
        "#2° Análise de Dados"
      ]
    },
    {
      "cell_type": "markdown",
      "metadata": {
        "id": "ERhCmVCv0rWR"
      },
      "source": [
        "=== Massa de dados que são uteis para dar o suporte para a empresa. Pode ser um Manual da Ferramenta ou serviço"
      ]
    },
    {
      "cell_type": "markdown",
      "metadata": {
        "id": "jg-nc84X1CjO"
      },
      "source": [
        "=== Construção dos Prompts das Regras de Negócio que o Bot deve seguir."
      ]
    },
    {
      "cell_type": "markdown",
      "metadata": {
        "id": "7oFILeDAyWpV"
      },
      "source": [
        "#3° Processamento de Dados"
      ]
    },
    {
      "cell_type": "markdown",
      "metadata": {
        "id": "P3eg90sl18Q-"
      },
      "source": [
        "#### Vamos Preparar o Ambiente para Criar nossa Aplicação (CHATBOT IA)"
      ]
    },
    {
      "cell_type": "markdown",
      "metadata": {
        "id": "9V5gQ4j82N1t"
      },
      "source": [
        "a. **Download do Python**\n",
        "\n",
        "https://www.python.org/downloads/\n",
        "\n"
      ]
    },
    {
      "cell_type": "markdown",
      "metadata": {
        "id": "froM8ofJ25-1"
      },
      "source": [
        "b. **Download da IDE VSCODE**\n",
        "\n",
        "https://code.visualstudio.com/download"
      ]
    },
    {
      "cell_type": "markdown",
      "metadata": {
        "id": "LUoTLh2O2hTu"
      },
      "source": [
        "c. **Criação do Ambiente Virtual**\n",
        "\n",
        "  **Comandos:**\n",
        "\n",
        "  python -m venv chatbot\n",
        "\n",
        "  chatbot\\Scripts\\activate"
      ]
    },
    {
      "cell_type": "markdown",
      "metadata": {
        "id": "pQEB3DL02mBO"
      },
      "source": [
        "d. **Instalação dos pacotes python necessários**\n",
        "\n",
        "**Comandos:**\n",
        "\n",
        "pip install -r requirements.txt"
      ]
    },
    {
      "cell_type": "markdown",
      "metadata": {
        "id": "CYfpzjIwyex2"
      },
      "source": [
        "#4° Máquinas Preditivas com IA / Machine Learning"
      ]
    },
    {
      "cell_type": "markdown",
      "metadata": {
        "id": "BRu2JsYA1O1-"
      },
      "source": [
        "=== Construção Treinamento e Validação da Máquina Preditiva. **Usaremos uma IA Pré-Treinada**"
      ]
    },
    {
      "cell_type": "markdown",
      "metadata": {
        "id": "rnuIswWU32tV"
      },
      "source": [
        "**Comandos:**\n",
        "\n",
        "streamlit run app.py"
      ]
    },
    {
      "cell_type": "markdown",
      "metadata": {
        "id": "ghIlbxe7yWtK"
      },
      "source": [
        "#5° Implementação ou Deploy"
      ]
    },
    {
      "cell_type": "markdown",
      "metadata": {
        "id": "Pdr9UV2a1bLS"
      },
      "source": [
        "=== Criação e Teste do Chatbot IA"
      ]
    },
    {
      "cell_type": "markdown",
      "metadata": {
        "id": "XNeE-_luQQfk"
      },
      "source": [
        "![](https://cdn.dribbble.com/users/872089/screenshots/9072270/media/3775e8583baca184fdaadff7f762adf3.gif)"
      ]
    },
    {
      "cell_type": "code",
      "execution_count": null,
      "metadata": {
        "id": "XagRwBIhQRJv"
      },
      "outputs": [],
      "source": []
    }
  ],
  "metadata": {
    "colab": {
      "collapsed_sections": [
        "jFyMJt1oP50g"
      ],
      "provenance": []
    },
    "kernelspec": {
      "display_name": "Python 3",
      "name": "python3"
    },
    "language_info": {
      "name": "python"
    }
  },
  "nbformat": 4,
  "nbformat_minor": 0
}
